{
  "nbformat": 4,
  "nbformat_minor": 0,
  "metadata": {
    "colab": {
      "provenance": []
    },
    "kernelspec": {
      "name": "python3",
      "display_name": "Python 3"
    },
    "language_info": {
      "name": "python"
    }
  },
  "cells": [
    {
      "cell_type": "code",
      "execution_count": null,
      "metadata": {
        "colab": {
          "base_uri": "https://localhost:8080/"
        },
        "id": "pAOoI0g9wh6_",
        "outputId": "6ef94c7c-64ad-44f1-8d17-e635c0b6bbef"
      },
      "outputs": [
        {
          "output_type": "stream",
          "name": "stdout",
          "text": [
            "First fruit: apple\n",
            "last furit: mango\n"
          ]
        }
      ],
      "source": [
        "# Q1: Create a list of 5 fruits. Print the first and last fruit.\n",
        "my_list = ['apple', 'cherry' , 'orange', 'grapes', 'mango']\n",
        "print(\"First fruit:\", my_list[0])\n",
        "print(\"last furit:\",my_list[4])"
      ]
    },
    {
      "cell_type": "code",
      "source": [
        "# sum of all numbers in the list.\n",
        "num = [10, 20, 30, 40, 50]\n",
        "print(\"sum of num:\",sum(num))\n"
      ],
      "metadata": {
        "colab": {
          "base_uri": "https://localhost:8080/"
        },
        "id": "8Z-zGR1uxnY0",
        "outputId": "38da90b8-abb3-4bbb-ed2f-50b06817ae3c"
      },
      "execution_count": null,
      "outputs": [
        {
          "output_type": "stream",
          "name": "stdout",
          "text": [
            "sum of num: 150\n"
          ]
        }
      ]
    },
    {
      "cell_type": "code",
      "source": [
        "# replace and update list\n",
        "color = ['red','blue','white','black']\n",
        "color[1]= 'pink'\n",
        "print(color)"
      ],
      "metadata": {
        "colab": {
          "base_uri": "https://localhost:8080/"
        },
        "id": "0nK-AT_ZzfQr",
        "outputId": "0809f2d2-676b-46af-daf4-78f2f691d9a6"
      },
      "execution_count": null,
      "outputs": [
        {
          "output_type": "stream",
          "name": "stdout",
          "text": [
            "['red', 'pink', 'white', 'black']\n"
          ]
        }
      ]
    },
    {
      "cell_type": "code",
      "source": [
        "# removing the num\n",
        "my_list = [5, 10, 15, 20, 25]\n",
        "my_list.remove(15)\n",
        "print(my_list)"
      ],
      "metadata": {
        "colab": {
          "base_uri": "https://localhost:8080/"
        },
        "id": "u5ZwKnLz1A9O",
        "outputId": "77685928-a09d-4331-973e-02818a832ee9"
      },
      "execution_count": null,
      "outputs": [
        {
          "output_type": "stream",
          "name": "stdout",
          "text": [
            "[5, 10, 20, 25]\n"
          ]
        }
      ]
    },
    {
      "cell_type": "code",
      "source": [],
      "metadata": {
        "id": "kzM-vHW-1cGy"
      },
      "execution_count": null,
      "outputs": []
    }
  ]
}