{
 "cells": [
  {
   "cell_type": "code",
   "execution_count": 5,
   "id": "78c8e7e0-e397-43cd-9680-c91dc4128fc5",
   "metadata": {},
   "outputs": [
    {
     "name": "stdout",
     "output_type": "stream",
     "text": [
      "price of mango: 200\n"
     ]
    }
   ],
   "source": [
    "# Create a dictionary with 3 fruits and their prices. Print the price of one fruit.\n",
    "fruits = {'apple': 100, 'orange' : 150, 'mango': 200}\n",
    "print('price of mango:',fruits['mango'])\n"
   ]
  },
  {
   "cell_type": "code",
   "execution_count": 15,
   "id": "ade2a7d9-850f-4463-9943-8ef2db2b2494",
   "metadata": {},
   "outputs": [
    {
     "name": "stdout",
     "output_type": "stream",
     "text": [
      "Student Names: dict_keys(['ali', 'ahmed', 'azan'])\n"
     ]
    }
   ],
   "source": [
    "students = {'ali':800, 'ahmed': 850, 'azan': 900}\n",
    "print(\"Student Names:\",students.keys())"
   ]
  },
  {
   "cell_type": "code",
   "execution_count": 4,
   "id": "cf4cd03a-abc5-4cad-9647-09d796b7c59d",
   "metadata": {},
   "outputs": [
    {
     "name": "stdin",
     "output_type": "stream",
     "text": [
      "Enter a country name:  Germany\n"
     ]
    },
    {
     "name": "stdout",
     "output_type": "stream",
     "text": [
      "The capital of Germany is Berlin\n"
     ]
    }
   ],
   "source": [
    "countries = { \"Pakistan\": \"Islamabad\",\"Japan\": \"Tokyo\",\"Germany\": \"Berlin\",\"France\": \"Paris\",\"Canada\": \"Ottawa\"}\n",
    "country = input(\"Enter a country name: \")\n",
    "\n",
    "if country in countries:\n",
    "    print(f\"The capital of {country} is {countries[country]}\")\n",
    "else:\n",
    "    print(\"Country not found in the list.\")\n"
   ]
  },
  {
   "cell_type": "code",
   "execution_count": 7,
   "id": "d9eeae49-ceb8-4422-a6e8-75003b2930cf",
   "metadata": {},
   "outputs": [
    {
     "name": "stdout",
     "output_type": "stream",
     "text": [
      "{1: 1, 2: 4, 3: 9, 4: 16, 5: 25}\n"
     ]
    }
   ],
   "source": [
    " # square of 5 num\n",
    "squares = {}\n",
    "\n",
    "for num in range(1, 6):\n",
    "    squares[num] = num * num\n",
    "\n",
    "print(squares)\n"
   ]
  },
  {
   "cell_type": "code",
   "execution_count": 8,
   "id": "3a0c64da-e609-43d8-9c66-d673d6a5ebea",
   "metadata": {},
   "outputs": [
    {
     "name": "stdout",
     "output_type": "stream",
     "text": [
      "{'name': 'Ali', 'age': 25, 'city': 'Karachi'}\n"
     ]
    }
   ],
   "source": [
    "person = {\"name\": \"Ali\", \"age\": 25, \"city\": \"Lahore\"}\n",
    "person[\"city\"] = \"Karachi\"\n",
    "\n",
    "print(person)\n"
   ]
  },
  {
   "cell_type": "code",
   "execution_count": 9,
   "id": "a2ae5237-99e3-4167-9283-9db9050d06ee",
   "metadata": {},
   "outputs": [
    {
     "name": "stdout",
     "output_type": "stream",
     "text": [
      "{'Milk': 10, 'Bread': 25, 'Eggs': 60, 'Butter': 15}\n"
     ]
    }
   ],
   "source": [
    "store = {\"Milk\": 10,\"Bread\": 25,\"Eggs\": 60}\n",
    "store[\"Butter\"] = 15\n",
    "\n",
    "print(store)\n"
   ]
  },
  {
   "cell_type": "code",
   "execution_count": 14,
   "id": "4f9bf655-3292-4ca2-9114-691e620c06e5",
   "metadata": {},
   "outputs": [
    {
     "name": "stdout",
     "output_type": "stream",
     "text": [
      "student with highest marks Farah 99\n"
     ]
    }
   ],
   "source": [
    "# student marks\n",
    "marks = {\"Ayesha\": 88,\"Bilal\": 90,\"Danish\": 70,\"Farah\": 99,\"Hassan\": 82}\n",
    "\n",
    "highest_student = max(marks, key=marks.get)\n",
    "\n",
    "print(f\"student with highest marks {highest_student} {marks[highest_student]}\")\n"
   ]
  },
  {
   "cell_type": "code",
   "execution_count": 20,
   "id": "d367aea2-abd4-4b78-b68f-8f649bde49c9",
   "metadata": {},
   "outputs": [
    {
     "name": "stdout",
     "output_type": "stream",
     "text": [
      "Grades of all students:\n",
      "Ali : A\n",
      "Sara : B\n"
     ]
    }
   ],
   "source": [
    "students = {\"Ali\": {\"age\": 20, \"grade\": \"A\"},\"Sara\": {\"age\": 22, \"grade\": \"B\"}}\n",
    "\n",
    "print(\"Grades of all students:\")\n",
    "for name, info in students.items():\n",
    "    print(name, \":\", info[\"grade\"])\n"
   ]
  },
  {
   "cell_type": "code",
   "execution_count": 21,
   "id": "6bb05a00-e879-496f-8075-7eef0ef01013",
   "metadata": {},
   "outputs": [
    {
     "name": "stdout",
     "output_type": "stream",
     "text": [
      "{'name': 'Ayesha', 'age': 21}\n"
     ]
    }
   ],
   "source": [
    "person = {\"name\": \"Ayesha\", \"age\": 21, \"city\": \"Lahore\"}\n",
    "person.pop(\"city\")\n",
    "\n",
    "print(person)\n"
   ]
  },
  {
   "cell_type": "code",
   "execution_count": null,
   "id": "7ba45075-3e56-4a71-879b-7ff3b36c2734",
   "metadata": {},
   "outputs": [],
   "source": []
  }
 ],
 "metadata": {
  "kernelspec": {
   "display_name": "Python [conda env:base] *",
   "language": "python",
   "name": "conda-base-py"
  },
  "language_info": {
   "codemirror_mode": {
    "name": "ipython",
    "version": 3
   },
   "file_extension": ".py",
   "mimetype": "text/x-python",
   "name": "python",
   "nbconvert_exporter": "python",
   "pygments_lexer": "ipython3",
   "version": "3.13.5"
  }
 },
 "nbformat": 4,
 "nbformat_minor": 5
}
