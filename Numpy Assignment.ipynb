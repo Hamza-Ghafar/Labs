{
 "cells": [
  {
   "cell_type": "code",
   "execution_count": 6,
   "id": "c81e9bc6-4140-4357-95cc-e4f24c7f8022",
   "metadata": {},
   "outputs": [
    {
     "name": "stdout",
     "output_type": "stream",
     "text": [
      "[1 2 3 4 5]\n",
      "Type: <class 'numpy.ndarray'>\n",
      "array dimensions: 1\n"
     ]
    }
   ],
   "source": [
    "import numpy as np\n",
    "arr = np.array([1, 2, 3, 4, 5])\n",
    "print(arr)\n",
    "print(\"Type:\", type(arr))\n",
    "print(\"array dimensions:\", arr.ndim)\n"
   ]
  },
  {
   "cell_type": "code",
   "execution_count": 32,
   "id": "acc1e01b-d545-494c-a640-5de7558baa03",
   "metadata": {},
   "outputs": [
    {
     "name": "stdout",
     "output_type": "stream",
     "text": [
      "Array: [10 11 12 13 14 15 16 17 18 19 20 21 22 23 24 25 26 27 28 29 30 31 32 33\n",
      " 34 35 36 37 38 39 40 41 42 43 44 45 46 47 48 49 50]\n",
      "Shape: (41,)\n",
      "Size: 41\n"
     ]
    }
   ],
   "source": [
    "arr = np.arange(10, 51)  \n",
    "print(\"Array:\", arr)\n",
    "print(\"Shape:\", arr.shape)\n",
    "print(\"Size:\", arr.size)\n"
   ]
  },
  {
   "cell_type": "code",
   "execution_count": 31,
   "id": "308515cb-95ce-45c0-8510-432cab88d8be",
   "metadata": {},
   "outputs": [
    {
     "name": "stdout",
     "output_type": "stream",
     "text": [
      "Original array:\n",
      "[[0 0 0 0]\n",
      " [0 0 0 0]\n",
      " [0 0 0 0]]\n",
      "zeros to fives:\n",
      "[[5 5 5 5]\n",
      " [5 5 5 5]\n",
      " [5 5 5 5]]\n"
     ]
    }
   ],
   "source": [
    "arr = np.zeros((3, 4), dtype=int)\n",
    "print(\"Original array:\")\n",
    "print(arr)\n",
    "# Convert all zeros to fives\n",
    "arr[:] = 5\n",
    "print(\"zeros to fives:\")\n",
    "print(arr)\n"
   ]
  },
  {
   "cell_type": "code",
   "execution_count": 30,
   "id": "c81df9ee-b526-4575-acbb-7f14a027da90",
   "metadata": {},
   "outputs": [
    {
     "name": "stdout",
     "output_type": "stream",
     "text": [
      "Random array: [14 80 44 25 54 76 26 43 67 51 99 98 28 91 47]\n",
      "Maximum value: 99\n",
      "Minimum value: 14\n",
      "Mean value: 56.2\n"
     ]
    }
   ],
   "source": [
    "arr = np.random.randint(1, 101, size=15)\n",
    "# Print the array\n",
    "print(\"Random array:\", arr)\n",
    "max_val = np.max(arr)\n",
    "min_val = np.min(arr)\n",
    "mean_val = np.mean(arr)\n",
    "\n",
    "print(\"Maximum value:\", max_val)\n",
    "print(\"Minimum value:\", min_val)\n",
    "print(\"Mean value:\", mean_val)\n"
   ]
  },
  {
   "cell_type": "code",
   "execution_count": 29,
   "id": "a77e1883-97c9-4cba-a4b0-f088e0e9cd64",
   "metadata": {},
   "outputs": [
    {
     "name": "stdout",
     "output_type": "stream",
     "text": [
      "array: [ 1  2  3  4  5  6  7  8  9 10 11 12 13 14 15 16 17 18 19 20]\n",
      "Even numbers: [ 2  4  6  8 10 12 14 16 18 20]\n",
      "Reversed array: [20 19 18 17 16 15 14 13 12 11 10  9  8  7  6  5  4  3  2  1]\n"
     ]
    }
   ],
   "source": [
    "arr = np.arange(1, 21)\n",
    "print(\"array:\", arr)\n",
    "\n",
    "# for even number\n",
    "even_numbers = arr[arr % 2 == 0]\n",
    "print(\"Even numbers:\", even_numbers)\n",
    "# Reverse the array using slicing\n",
    "reversed_array = arr[::-1]\n",
    "print(\"Reversed array:\", reversed_array)\n"
   ]
  },
  {
   "cell_type": "code",
   "execution_count": 28,
   "id": "90a6cd29-f378-4875-98b5-f6fe0ce24f42",
   "metadata": {},
   "outputs": [
    {
     "name": "stdout",
     "output_type": "stream",
     "text": [
      "First element: 10\n",
      "Last element: 50\n"
     ]
    }
   ],
   "source": [
    "arr = np.array([10, 20, 30, 40, 50])\n",
    "# for first element\n",
    "print(\"First element:\", arr[0])\n",
    "# for last element\n",
    "print(\"Last element:\", arr[-1])\n"
   ]
  },
  {
   "cell_type": "code",
   "execution_count": 27,
   "id": "1627cd3c-13f4-4b7c-b69e-ed827d74c9de",
   "metadata": {},
   "outputs": [
    {
     "name": "stdout",
     "output_type": "stream",
     "text": [
      "[[ 1  2  3  4]\n",
      " [ 5  6  7  8]\n",
      " [ 9 10 11 12]\n",
      " [13 14 15 16]]\n",
      "\n",
      "[[3 4]\n",
      " [7 8]]\n",
      "\n",
      "[[ 0  2  3  4]\n",
      " [ 5  0  7  8]\n",
      " [ 9 10  0 12]\n",
      " [13 14 15  0]]\n"
     ]
    }
   ],
   "source": [
    "arr = np.arange(1, 17).reshape(4, 4)\n",
    "print( arr)\n",
    "print()\n",
    "# Extract the first two rows and last two columns\n",
    "extracted = arr[:2, -2:]\n",
    "print( extracted)\n",
    "print()\n",
    "# Replace the diagonal elements with 0\n",
    "np.fill_diagonal(arr, 0)\n",
    "print( arr)\n"
   ]
  },
  {
   "cell_type": "code",
   "execution_count": null,
   "id": "ce1cf029-11e9-4bd3-b0d9-72e08484129f",
   "metadata": {},
   "outputs": [],
   "source": [
    "import numpy as np\n",
    "\n",
    "# Create an array of 25 random integers between 1 and 100\n",
    "arr = np.random.randint(1, 101, size=25)\n",
    "print(\"Original array:\\n\", arr)\n",
    "\n",
    "# Sort the array\n",
    "sorted_arr = np.sort(arr)\n",
    "print(\"\\nSorted array:\\n\", sorted_arr)\n"
   ]
  },
  {
   "cell_type": "code",
   "execution_count": null,
   "id": "1e59dbdc-aed6-49d3-be7e-7deffb145b3c",
   "metadata": {},
   "outputs": [],
   "source": [
    "arr_36 = np.arange(1, 37)\n",
    "# Reshape t\n",
    "matrix = arr_36.reshape(6, 6)\n",
    "print(\"Matrix:\", matrix)\n",
    "\n",
    "# Sum of each row\n",
    "row_sums = np.sum(matrix, axis=1)\n",
    "print(\"Sum of each row:\", row_sums)\n",
    "\n",
    "# Sum of each column\n",
    "col_sums = np.sum(matrix, axis=0)\n",
    "print(\"Sum of each column:\", col_sums)\n"
   ]
  }
 ],
 "metadata": {
  "kernelspec": {
   "display_name": "Python [conda env:base] *",
   "language": "python",
   "name": "conda-base-py"
  },
  "language_info": {
   "codemirror_mode": {
    "name": "ipython",
    "version": 3
   },
   "file_extension": ".py",
   "mimetype": "text/x-python",
   "name": "python",
   "nbconvert_exporter": "python",
   "pygments_lexer": "ipython3",
   "version": "3.13.5"
  }
 },
 "nbformat": 4,
 "nbformat_minor": 5
}
