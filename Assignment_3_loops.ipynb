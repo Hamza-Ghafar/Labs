{
  "nbformat": 4,
  "nbformat_minor": 0,
  "metadata": {
    "colab": {
      "provenance": []
    },
    "kernelspec": {
      "name": "python3",
      "display_name": "Python 3"
    },
    "language_info": {
      "name": "python"
    }
  },
  "cells": [
    {
      "cell_type": "code",
      "execution_count": null,
      "metadata": {
        "colab": {
          "base_uri": "https://localhost:8080/"
        },
        "id": "nRK619FojL4j",
        "outputId": "5aff0943-8dcd-4710-875d-5ce5bb086ae3"
      },
      "outputs": [
        {
          "output_type": "stream",
          "name": "stdout",
          "text": [
            "Enter the number9\n",
            "Multiplication table of: 9\n",
            "9 x 1 = 9\n",
            "9 x 2 = 18\n",
            "9 x 3 = 27\n",
            "9 x 4 = 36\n",
            "9 x 5 = 45\n",
            "9 x 6 = 54\n",
            "9 x 7 = 63\n",
            "9 x 8 = 72\n",
            "9 x 9 = 81\n",
            "9 x 10 = 90\n"
          ]
        }
      ],
      "source": [
        "# Multiplication Table\n",
        "num = input(\"Enter the number\")\n",
        "n = int(num)\n",
        "print(\"Multiplication table of:\",n)\n",
        "for i in range(1,11):\n",
        "  print(n,\"x\",i,\"=\",n*i)"
      ]
    },
    {
      "cell_type": "code",
      "source": [
        "# Fibonacci Series\n",
        "n = int(input(\"Enter the number: \"))\n",
        "a,b = 0,1\n",
        "count = 0\n",
        "print(\"Fibonacci Series:\")\n",
        "while count < n:\n",
        "    print(a,end=\" \" )\n",
        "    a, b = b, a + b\n",
        "    count += 1"
      ],
      "metadata": {
        "colab": {
          "base_uri": "https://localhost:8080/"
        },
        "id": "SjVPG_srkrZ-",
        "outputId": "6899694b-6026-40e0-be2d-5bc481e5f6c9"
      },
      "execution_count": null,
      "outputs": [
        {
          "output_type": "stream",
          "name": "stdout",
          "text": [
            "Enter the number: 20\n",
            "Fibonacci Series:\n",
            "0 1 1 2 3 5 8 13 21 34 55 89 144 233 377 610 987 1597 2584 4181 "
          ]
        }
      ]
    },
    {
      "cell_type": "code",
      "source": [
        "# Prime Number Checker\n",
        "n = int(input(\"Enter a number: \"))\n",
        "if n <= 1:\n",
        "    print(n, \"is not a prime number (prime numbers are greater than 1).\")\n",
        "else:\n",
        "   is_prime = True\n",
        "   for i in range(2, n):\n",
        "      if n % i == 0:\n",
        "         is_prime = False\n",
        "      print(n, \"is divisible by\", i, \"so it is not a prime number.\")\n",
        "      break\n",
        "      if is_prime:\n",
        "        print(n,\"prime number\")"
      ],
      "metadata": {
        "colab": {
          "base_uri": "https://localhost:8080/"
        },
        "id": "t1mXH9_nn7si",
        "outputId": "50d7062f-06ce-4d84-c4d5-e7654776d758"
      },
      "execution_count": null,
      "outputs": [
        {
          "output_type": "stream",
          "name": "stdout",
          "text": [
            "Enter a number: 9\n",
            "9 is divisible by 2 so it is not a prime number.\n"
          ]
        }
      ]
    },
    {
      "cell_type": "code",
      "source": [
        "# Power Calculation\n",
        "b = float(input(\"Enter the number: \"))\n",
        "e = int(input(\"Enter the power: \"))\n",
        "p = b ** e\n",
        "print(p)"
      ],
      "metadata": {
        "colab": {
          "base_uri": "https://localhost:8080/"
        },
        "id": "riNQR_rZqoWO",
        "outputId": "650dacee-b601-4a47-c8e3-0763f671c1de"
      },
      "execution_count": null,
      "outputs": [
        {
          "output_type": "stream",
          "name": "stdout",
          "text": [
            "Enter the number: 7\n",
            "Enter the power: 9\n",
            "40353607.0\n"
          ]
        }
      ]
    },
    {
      "cell_type": "code",
      "source": [
        "# Reverse Number\n",
        "n = int(input(\"Enter a number: \"))\n",
        "\n",
        "print(\"Reverse counting from:\",n)\n",
        "\n",
        "for i in range(n, 0, -1):\n",
        "    print(i, end=\" \")"
      ],
      "metadata": {
        "colab": {
          "base_uri": "https://localhost:8080/"
        },
        "id": "K0WULsHBrqaD",
        "outputId": "d950dc00-5130-4b95-a2d2-9f4f04d771e9"
      },
      "execution_count": null,
      "outputs": [
        {
          "output_type": "stream",
          "name": "stdout",
          "text": [
            "Enter a number: 8\n",
            "Reverse counting from: 8\n",
            "8 7 6 5 4 3 2 1 "
          ]
        }
      ]
    },
    {
      "cell_type": "code",
      "source": [
        "# Guess Until Correct\n",
        "secret = 3\n",
        "a = int(input(\"Guess the secret number: \"))\n",
        "\n",
        "if a == secret:\n",
        "      print(\"Correct\")\n",
        "else:\n",
        "        print(\"try again\")"
      ],
      "metadata": {
        "colab": {
          "base_uri": "https://localhost:8080/"
        },
        "id": "JxU-5BgXtmpp",
        "outputId": "1b96b4c5-1620-4eb2-b70b-d1ba649d0835"
      },
      "execution_count": null,
      "outputs": [
        {
          "output_type": "stream",
          "name": "stdout",
          "text": [
            "Guess the secret number: 4\n",
            "try again\n"
          ]
        }
      ]
    },
    {
      "cell_type": "code",
      "source": [],
      "metadata": {
        "id": "0gp4agYZvz82"
      },
      "execution_count": null,
      "outputs": []
    }
  ]
}