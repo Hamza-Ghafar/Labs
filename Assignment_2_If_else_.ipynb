{
  "nbformat": 4,
  "nbformat_minor": 0,
  "metadata": {
    "colab": {
      "provenance": []
    },
    "kernelspec": {
      "name": "python3",
      "display_name": "Python 3"
    },
    "language_info": {
      "name": "python"
    }
  },
  "cells": [
    {
      "cell_type": "code",
      "source": [
        "# Q1:Comparing Rectangle Areas\n",
        "l = float(input(\"Enter lenth of first rectangle:\"))\n",
        "b = float(input(\"Enter breadth of first rectangle:\"))\n",
        "a1 = l*b\n",
        "print(\"The area of first rectangle is:\",a1)\n",
        "l = float(input(\"Enter lenth of second rectangle:\"))\n",
        "b = float(input(\"Enter breadth of second rectangle:\"))\n",
        "a2 = l*b\n",
        "print(\"The area of second rectangle is:\",a2)\n",
        "if a1>a2:\n",
        "  print(\"The first rectangle has a greater area\")\n",
        "elif a1<a2:\n",
        "  print(\"The second rectangle has a greater area\")\n",
        "elif a1==a2:\n",
        "  print(\"Both rectangles have equal area\")\n",
        "\n",
        "\n",
        "\n"
      ],
      "metadata": {
        "id": "HvPmcxuD6RlU",
        "colab": {
          "base_uri": "https://localhost:8080/"
        },
        "outputId": "ffc0bc38-cb3c-4934-d3b9-ecabf5ba1917"
      },
      "execution_count": null,
      "outputs": [
        {
          "output_type": "stream",
          "name": "stdout",
          "text": [
            "Enter lenth of first rectangle:9\n",
            "Enter breadth of first rectangle:4\n",
            "The area of first rectangle is: 36.0\n",
            "Enter lenth of second rectangle:7\n",
            "Enter breadth of second rectangle:3\n",
            "The area of second rectangle is: 21.0\n",
            "The first rectangle has a greater area\n"
          ]
        }
      ]
    },
    {
      "cell_type": "code",
      "source": [
        "#Q2: Purchase Discount\n",
        "a = input(\"Enter the number:\")\n",
        "num = int(a)\n",
        "\n",
        "if num % 2== 0:\n",
        "   print(\"Even\")\n",
        "else:\n",
        "   print(\"odd\")\n",
        "if num > 0:\n",
        "  print(\"Positive number\")\n",
        "else:\n",
        "  print(\"negative number\")\n",
        "\n",
        "\n",
        "\n",
        "\n",
        "\n",
        "\n"
      ],
      "metadata": {
        "id": "SSw5_lGCid0m",
        "colab": {
          "base_uri": "https://localhost:8080/"
        },
        "outputId": "68722ac1-df4c-44b8-8e8d-95b0034cdb6b"
      },
      "execution_count": null,
      "outputs": [
        {
          "output_type": "stream",
          "name": "stdout",
          "text": [
            "Enter the number:-6\n",
            "Even\n",
            "negative number\n"
          ]
        }
      ]
    },
    {
      "cell_type": "code",
      "source": [
        "#Q3: Tax Calculation by Income Slab\n",
        "salary = int(input(\"Enter the salary:\"))\n",
        "if salary>100000:\n",
        "  tax =salary * 0.2\n",
        "elif salary <100000:\n",
        "  tax =salary * 0.1\n",
        "else :\n",
        "  tax =salary * 0.05\n",
        "print(\"Incom Tax:\", tax)\n",
        "print(\"Salary after tax\", salary-tax)\n",
        "\n",
        "\n"
      ],
      "metadata": {
        "id": "mQLGa4wNUNL8",
        "colab": {
          "base_uri": "https://localhost:8080/"
        },
        "outputId": "b0e8ccc9-b533-4aa9-cee2-80d37181bcf7"
      },
      "execution_count": null,
      "outputs": [
        {
          "output_type": "stream",
          "name": "stdout",
          "text": [
            "Enter the salary:70000\n",
            "Incom Tax: 7000.0\n",
            "Salary after tax 63000.0\n"
          ]
        }
      ]
    },
    {
      "cell_type": "code",
      "source": [
        "#Q4: Shipping Cost Calculation\n",
        "weight = int(input(\"Enter the parcel weight in kg:\"))\n",
        "if weight > 20:\n",
        " rate =weight * 15\n",
        "elif weight < 20:\n",
        " rate =weight * 10\n",
        "else:\n",
        "  rate =weight * 5\n",
        "print(\"Shipping cost:\", rate)"
      ],
      "metadata": {
        "id": "AGC594xYXpTL",
        "colab": {
          "base_uri": "https://localhost:8080/"
        },
        "outputId": "e64c4eb8-16d7-4fb6-d80b-530f542ded22"
      },
      "execution_count": null,
      "outputs": [
        {
          "output_type": "stream",
          "name": "stdout",
          "text": [
            "Enter the parcel weight in kg:18\n",
            "Shipping cost: 180\n"
          ]
        }
      ]
    },
    {
      "cell_type": "code",
      "source": [
        "#Q5: Smallest of Three Numbers\n",
        "a = int(input(\"Enter first number: \"))\n",
        "b = int(input(\"Enter second number: \"))\n",
        "c = int(input(\"Enter third number: \"))\n",
        "# Smallest number\n",
        "if a <= b and a <= c:\n",
        "    smallest = a\n",
        "elif b <= a and b <= c:\n",
        "    smallest = b\n",
        "else:\n",
        "    smallest = c\n",
        "# Greatest number\n",
        "if a >= b and a >= c:\n",
        "    greatest = a\n",
        "elif b >= a and b >= c:\n",
        "    greatest = b\n",
        "else:\n",
        "    greatest = c\n",
        "print(\"Smallest number =\", smallest)\n",
        "print(\"Greatest number =\", greatest)\n",
        "\n"
      ],
      "metadata": {
        "id": "fnv0mkhWVtPV",
        "colab": {
          "base_uri": "https://localhost:8080/"
        },
        "outputId": "501a3e39-2a06-4850-8c85-e7f5277c03fc"
      },
      "execution_count": null,
      "outputs": [
        {
          "output_type": "stream",
          "name": "stdout",
          "text": [
            "Enter first number: 10\n",
            "Enter second number: 20\n",
            "Enter third number: 30\n",
            "Smallest number = 10\n",
            "Greatest number = 30\n"
          ]
        }
      ]
    },
    {
      "cell_type": "code",
      "source": [],
      "metadata": {
        "id": "uZn_puEzMBR3"
      },
      "execution_count": null,
      "outputs": []
    }
  ]
}