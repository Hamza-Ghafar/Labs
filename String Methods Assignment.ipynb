{
 "cells": [
  {
   "cell_type": "code",
   "execution_count": 1,
   "id": "c0c8d8ca-2fbe-49d2-8e72-ca703e42220f",
   "metadata": {},
   "outputs": [
    {
     "name": "stdin",
     "output_type": "stream",
     "text": [
      "Enter a word:  qwert\n"
     ]
    },
    {
     "name": "stdout",
     "output_type": "stream",
     "text": [
      "Length of string: 5\n"
     ]
    }
   ],
   "source": [
    "text = input(\"Enter a word: \")\n",
    "print(\"Length of string:\", len(text))\n"
   ]
  },
  {
   "cell_type": "code",
   "execution_count": 2,
   "id": "314bb0b8-b56f-4ba0-ab8e-97539d081c6e",
   "metadata": {},
   "outputs": [
    {
     "name": "stdin",
     "output_type": "stream",
     "text": [
      "Enter a string:  qwert\n"
     ]
    },
    {
     "name": "stdout",
     "output_type": "stream",
     "text": [
      "Uppercase: QWERT\n",
      "Lowercase: qwert\n"
     ]
    }
   ],
   "source": [
    "text = input(\"Enter a string: \")\n",
    "print(\"Uppercase:\", text.upper())\n",
    "print(\"Lowercase:\", text.lower())\n"
   ]
  },
  {
   "cell_type": "code",
   "execution_count": 3,
   "id": "85c06b8f-b3a9-4b99-a1fe-a44eb1d53e64",
   "metadata": {},
   "outputs": [
    {
     "name": "stdin",
     "output_type": "stream",
     "text": [
      "Enter a string:  qwert\n"
     ]
    },
    {
     "name": "stdout",
     "output_type": "stream",
     "text": [
      "First character: q\n",
      "Last character: t\n"
     ]
    }
   ],
   "source": [
    "text = input(\"Enter a string: \")\n",
    "print(\"First character:\", text[0])\n",
    "\n",
    "print(\"Last character:\", text[-1])\n",
    "\n"
   ]
  },
  {
   "cell_type": "code",
   "execution_count": 4,
   "id": "c35e394d-211a-4786-93f7-1879704f68f1",
   "metadata": {},
   "outputs": [
    {
     "name": "stdin",
     "output_type": "stream",
     "text": [
      "Enter a string:  qwert\n",
      "Enter a letter to count:  qwert\n"
     ]
    },
    {
     "name": "stdout",
     "output_type": "stream",
     "text": [
      "Count of qwert : 1\n"
     ]
    }
   ],
   "source": [
    "text = input(\"Enter a string: \")\n",
    "letter = input(\"Enter a letter to count: \")\n",
    "print(\"Count of\", letter, \":\", text.count(letter))\n"
   ]
  },
  {
   "cell_type": "code",
   "execution_count": 5,
   "id": "a06126a1-bc43-4b1f-80f8-dee5ed3af3ee",
   "metadata": {},
   "outputs": [
    {
     "name": "stdout",
     "output_type": "stream",
     "text": [
      "Python is not good, it is amazing!\n"
     ]
    }
   ],
   "source": [
    "sentence = \"Python is not bad, it is amazing!\"\n",
    "new_sentence = sentence.replace(\"bad\", \"good\")\n",
    "print(new_sentence)"
   ]
  },
  {
   "cell_type": "code",
   "execution_count": 6,
   "id": "09775db9-2b14-4b2b-9f5a-48015fe718b1",
   "metadata": {},
   "outputs": [
    {
     "name": "stdin",
     "output_type": "stream",
     "text": [
      "Enter a string:  qwert\n"
     ]
    },
    {
     "name": "stdout",
     "output_type": "stream",
     "text": [
      "q\n",
      "w\n",
      "e\n",
      "r\n",
      "t\n"
     ]
    }
   ],
   "source": [
    "text = input(\"Enter a string: \")\n",
    "for ch in text:\n",
    "    print(ch)"
   ]
  },
  {
   "cell_type": "code",
   "execution_count": 7,
   "id": "366c1614-3ffd-4b53-b824-24e932dff2f5",
   "metadata": {},
   "outputs": [
    {
     "name": "stdin",
     "output_type": "stream",
     "text": [
      "Enter a string:  qwert\n"
     ]
    },
    {
     "name": "stdout",
     "output_type": "stream",
     "text": [
      "It is not a palindrome.\n"
     ]
    }
   ],
   "source": [
    "text = input(\"Enter a string: \")\n",
    "\n",
    "if text == text[::-1]:\n",
    "    print(\"It is a palindrome.\")\n",
    "else:\n",
    "    print(\"It is not a palindrome.\")"
   ]
  },
  {
   "cell_type": "code",
   "execution_count": 8,
   "id": "8c2653f1-48bc-4ca8-ac21-f7abc0eca718",
   "metadata": {},
   "outputs": [
    {
     "name": "stdout",
     "output_type": "stream",
     "text": [
      "I love Python\n"
     ]
    }
   ],
   "source": [
    "words = [\"I\", \"love\", \"Python\"]\n",
    "sentence = \" \".join(words)\n",
    "print(sentence)"
   ]
  },
  {
   "cell_type": "code",
   "execution_count": null,
   "id": "eca89937-97ca-4188-b8d9-3fc928498500",
   "metadata": {},
   "outputs": [],
   "source": []
  }
 ],
 "metadata": {
  "kernelspec": {
   "display_name": "Python [conda env:base] *",
   "language": "python",
   "name": "conda-base-py"
  },
  "language_info": {
   "codemirror_mode": {
    "name": "ipython",
    "version": 3
   },
   "file_extension": ".py",
   "mimetype": "text/x-python",
   "name": "python",
   "nbconvert_exporter": "python",
   "pygments_lexer": "ipython3",
   "version": "3.13.5"
  }
 },
 "nbformat": 4,
 "nbformat_minor": 5
}
