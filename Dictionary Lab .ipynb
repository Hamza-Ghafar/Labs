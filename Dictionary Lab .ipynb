{
 "cells": [
  {
   "cell_type": "code",
   "execution_count": 20,
   "id": "ec381976-4b73-4c5f-9b90-94d0a961d401",
   "metadata": {},
   "outputs": [
    {
     "name": "stdout",
     "output_type": "stream",
     "text": [
      "{'Name': 'Ali', 'Age': 16, 'Class': '10th'}\n",
      "16\n",
      "{'Name': 'Ali', 'Age': 16, 'Class': '10th', 'Grade': 'A'}\n",
      "{'Name': 'Ali', 'Age': 20, 'Class': '10th', 'Grade': 'A'}\n"
     ]
    }
   ],
   "source": [
    "# Create dictionary\n",
    "student = {\"Name\": \"Ali\", \"Age\": 16, \"Class\": \"10th\"}\n",
    "print(student)\n",
    "\n",
    "# Print Age\n",
    "print(student[\"Age\"])\n",
    "\n",
    "# Add grade\n",
    "student[\"Grade\"] = \"A\"\n",
    "print(student)\n",
    "\n",
    "# Update age\n",
    "student[\"Age\"] = 20\n",
    "\n",
    "# Delete city (if exists)\n",
    "if \"City\" in student:\n",
    "    del student[\"City\"]\n",
    "\n",
    "print(student)\n",
    "\n"
   ]
  },
  {
   "cell_type": "code",
   "execution_count": null,
   "id": "c85acabf-1555-4648-ac2a-e3f89c7f0f45",
   "metadata": {},
   "outputs": [],
   "source": []
  }
 ],
 "metadata": {
  "kernelspec": {
   "display_name": "Python [conda env:base] *",
   "language": "python",
   "name": "conda-base-py"
  },
  "language_info": {
   "codemirror_mode": {
    "name": "ipython",
    "version": 3
   },
   "file_extension": ".py",
   "mimetype": "text/x-python",
   "name": "python",
   "nbconvert_exporter": "python",
   "pygments_lexer": "ipython3",
   "version": "3.13.5"
  }
 },
 "nbformat": 4,
 "nbformat_minor": 5
}
