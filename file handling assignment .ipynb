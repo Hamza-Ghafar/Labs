{
 "cells": [
  {
   "cell_type": "code",
   "execution_count": 31,
   "id": "17f2d04f-c491-417a-96bd-bf660932826b",
   "metadata": {},
   "outputs": [
    {
     "name": "stdin",
     "output_type": "stream",
     "text": [
      "Enter the Name:  Hamza\n",
      "Enter the Age:  22\n"
     ]
    }
   ],
   "source": [
    "# Write to a File\n",
    "with open(\"info.txt\", \"w\") as file:\n",
    "    name = str(input(\"Enter the Name: \"))\n",
    "    age = str(input(\"Enter the Age: \"))  \n",
    "    file.write(name + \" \" + age)          "
   ]
  },
  {
   "cell_type": "code",
   "execution_count": 32,
   "id": "fbcdfaa0-bd61-4b82-a509-9344ce6438e2",
   "metadata": {},
   "outputs": [
    {
     "name": "stdout",
     "output_type": "stream",
     "text": [
      "Hamza 22\n"
     ]
    }
   ],
   "source": [
    "# Read from a File\n",
    "with open('info.txt','r') as r:\n",
    "    file = r.read()\n",
    "    print(file)"
   ]
  },
  {
   "cell_type": "code",
   "execution_count": 33,
   "id": "8e9ba61b-aaeb-45cf-943a-c3156e30e29a",
   "metadata": {},
   "outputs": [
    {
     "name": "stdout",
     "output_type": "stream",
     "text": [
      "Hamza 22This file was updated successfully!\n"
     ]
    }
   ],
   "source": [
    "# Append to a File\n",
    "with open('info.txt','a') as file:\n",
    "    file.write( 'This file was updated successfully!')\n",
    "with open('info.txt','r') as r:\n",
    "    file = r.read()\n",
    "    print(file)"
   ]
  },
  {
   "cell_type": "code",
   "execution_count": 34,
   "id": "377e8457-0e52-41fe-82b1-1259bacd5ce0",
   "metadata": {},
   "outputs": [
    {
     "name": "stdout",
     "output_type": "stream",
     "text": [
      "Welcome to Dart File Handling\n",
      "Welcome to Dart File HandlingEnd of File\n"
     ]
    }
   ],
   "source": [
    "# Read, Write &amp; Append Together\n",
    "with open('data.txt','w') as file:\n",
    "    file.write('Welcome to Dart File Handling')\n",
    "with open('data.txt','r') as r:\n",
    "    file = r.read()\n",
    "    print(file)\n",
    "with open('data.txt','a') as file:\n",
    "    file.write('End of File')\n",
    "with open('data.txt','r') as r:\n",
    "    file = r.read()\n",
    "    print(file)"
   ]
  },
  {
   "cell_type": "code",
   "execution_count": 41,
   "id": "bf9d0daa-6783-4144-8d1f-ff7fcc2121bd",
   "metadata": {},
   "outputs": [],
   "source": [
    "with open(\"data.txt\", \"r\") as r, open(\"copy.txt\", \"a\") as a:\n",
    "    a.write(r.read())"
   ]
  },
  {
   "cell_type": "code",
   "execution_count": 42,
   "id": "c78261ea-f03c-44ea-ad13-edfd9a28c125",
   "metadata": {},
   "outputs": [
    {
     "name": "stdout",
     "output_type": "stream",
     "text": [
      "Welcome to Dart File HandlingEnd of FileWelcome to Dart File HandlingEnd of FileWelcome to Dart File HandlingEnd of File\n"
     ]
    }
   ],
   "source": [
    "with open('copy.txt','r') as r:\n",
    "    file = r.read()\n",
    "    print(file)"
   ]
  },
  {
   "cell_type": "code",
   "execution_count": 45,
   "id": "33986b67-0d01-4f8d-8e66-5ec1e2c5b57f",
   "metadata": {},
   "outputs": [
    {
     "name": "stdout",
     "output_type": "stream",
     "text": [
      "Number of words: 7\n"
     ]
    }
   ],
   "source": [
    "# counting the number of words\n",
    "with open(\"data.txt\", \"r\") as f:\n",
    "    text = f.read()          \n",
    "    words = text.split()    \n",
    "    print(\"Number of words:\", len(words))\n"
   ]
  },
  {
   "cell_type": "code",
   "execution_count": null,
   "id": "4a38908a-b9fd-4146-83ef-6ae797b5f6a2",
   "metadata": {},
   "outputs": [],
   "source": []
  }
 ],
 "metadata": {
  "kernelspec": {
   "display_name": "Python [conda env:base] *",
   "language": "python",
   "name": "conda-base-py"
  },
  "language_info": {
   "codemirror_mode": {
    "name": "ipython",
    "version": 3
   },
   "file_extension": ".py",
   "mimetype": "text/x-python",
   "name": "python",
   "nbconvert_exporter": "python",
   "pygments_lexer": "ipython3",
   "version": "3.13.5"
  }
 },
 "nbformat": 4,
 "nbformat_minor": 5
}
