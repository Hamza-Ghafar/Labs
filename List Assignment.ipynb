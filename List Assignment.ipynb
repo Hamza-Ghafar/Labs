{
 "cells": [
  {
   "cell_type": "code",
   "execution_count": 10,
   "id": "18b33951-5ee6-4173-afdb-cda0a0e79886",
   "metadata": {},
   "outputs": [
    {
     "name": "stdout",
     "output_type": "stream",
     "text": [
      "2\n",
      "4\n",
      "6\n"
     ]
    }
   ],
   "source": [
    "# Even numbers from a list\n",
    "numbers = [1, 2, 3, 4, 5, 6, 7]\n",
    "\n",
    "for num in numbers:\n",
    "    if num % 2 == 0:\n",
    "        print(num)\n"
   ]
  },
  {
   "cell_type": "code",
   "execution_count": 2,
   "id": "08b91b87-c877-47ce-815c-9354cd0ec065",
   "metadata": {},
   "outputs": [
    {
     "name": "stdin",
     "output_type": "stream",
     "text": [
      "Enter a name:  hamza\n"
     ]
    },
    {
     "name": "stdout",
     "output_type": "stream",
     "text": [
      "Not Found\n"
     ]
    }
   ],
   "source": [
    "# Search name in list\n",
    "students = [\"Ali\", \"Sara\", \"Ahmed\", \"Hina\", \"Usman\"]\n",
    "name = input(\"Enter a name: \")\n",
    "\n",
    "if name in students:\n",
    "    print(\"Found\")\n",
    "else:\n",
    "    print(\"Not Found\")\n"
   ]
  },
  {
   "cell_type": "code",
   "execution_count": 3,
   "id": "b14477fa-611c-46f4-92be-7c2660ba844c",
   "metadata": {},
   "outputs": [
    {
     "name": "stdout",
     "output_type": "stream",
     "text": [
      "Max: 25\n",
      "Min: 4\n"
     ]
    }
   ],
   "source": [
    "# Find max and min\n",
    "numbers = [12, 4, 9, 25, 7, 15]\n",
    "\n",
    "maximum = numbers[0]\n",
    "minimum = numbers[0]\n",
    "\n",
    "for num in numbers:\n",
    "    if num > maximum:\n",
    "        maximum = num\n",
    "    if num < minimum:\n",
    "        minimum = num\n",
    "\n",
    "print(\"Max:\", maximum)\n",
    "print(\"Min:\", minimum)\n"
   ]
  },
  {
   "cell_type": "code",
   "execution_count": 20,
   "id": "322b495c-50c6-4c8e-abfb-53332c0f8bf6",
   "metadata": {},
   "outputs": [
    {
     "name": "stdout",
     "output_type": "stream",
     "text": [
      "None\n"
     ]
    }
   ],
   "source": [
    "# Multiply each number by 3\n",
    "nums = [2, 4, 6, 8, 10]\n",
    "new_list = nums.append(n*3)\n",
    "print(new_list)\n"
   ]
  },
  {
   "cell_type": "code",
   "execution_count": 17,
   "id": "a57f80d7-f980-4b36-8759-ab29318671d3",
   "metadata": {},
   "outputs": [
    {
     "name": "stdout",
     "output_type": "stream",
     "text": [
      "Ali\n",
      "Sara\n",
      "Ahmed\n"
     ]
    }
   ],
   "source": [
    "# nested list print name\n",
    "students = [[\"Ali\", 20], [\"Sara\", 22], [\"Ahmed\", 19]]\n",
    "\n",
    "for student in students:\n",
    "    print(student[0])\n"
   ]
  },
  {
   "cell_type": "code",
   "execution_count": 19,
   "id": "106ad814-5079-4a67-973e-fd999dcc386b",
   "metadata": {},
   "outputs": [],
   "source": [
    "# Create a list of numbers. Find and print the second largest number from the list.\n"
   ]
  },
  {
   "cell_type": "code",
   "execution_count": 7,
   "id": "965e53d7-e016-4875-91c5-a01ee8ece12b",
   "metadata": {},
   "outputs": [
    {
     "name": "stdout",
     "output_type": "stream",
     "text": [
      "2\n",
      "4\n",
      "6\n",
      "8\n"
     ]
    }
   ],
   "source": [
    "\n",
    "nums = [1,2,3,4,5,6,7,8,9]\n",
    "\n",
    "for i in range(len(nums)):\n",
    "    if i % 2 == 1:\n",
    "        print(nums[i])\n"
   ]
  },
  {
   "cell_type": "code",
   "execution_count": 9,
   "id": "65a3fbe9-b820-4faf-a786-1d50228956d1",
   "metadata": {},
   "outputs": [
    {
     "name": "stdout",
     "output_type": "stream",
     "text": [
      "I Love Pakistan\n"
     ]
    }
   ],
   "source": [
    "words = [\"I\", \"Love\", \"Pakistan\"]\n",
    "sentence = \" \".join(words)\n",
    "print(sentence)\n"
   ]
  },
  {
   "cell_type": "code",
   "execution_count": null,
   "id": "21947067-5137-4872-a4c8-f46d89edc0b6",
   "metadata": {},
   "outputs": [],
   "source": [
    "\n"
   ]
  }
 ],
 "metadata": {
  "kernelspec": {
   "display_name": "Python [conda env:base] *",
   "language": "python",
   "name": "conda-base-py"
  },
  "language_info": {
   "codemirror_mode": {
    "name": "ipython",
    "version": 3
   },
   "file_extension": ".py",
   "mimetype": "text/x-python",
   "name": "python",
   "nbconvert_exporter": "python",
   "pygments_lexer": "ipython3",
   "version": "3.13.5"
  }
 },
 "nbformat": 4,
 "nbformat_minor": 5
}
