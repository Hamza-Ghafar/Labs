{
  "nbformat": 4,
  "nbformat_minor": 0,
  "metadata": {
    "colab": {
      "provenance": [],
      "toc_visible": true
    },
    "kernelspec": {
      "name": "python3",
      "display_name": "Python 3"
    },
    "language_info": {
      "name": "python"
    }
  },
  "cells": [
    {
      "cell_type": "markdown",
      "source": [
        "# Assignment 1 Variable & Arithmetic Operators\n"
      ],
      "metadata": {
        "id": "1Nmnval0g2yc"
      }
    },
    {
      "cell_type": "code",
      "source": [
        "# Calculate Age\n",
        "\n",
        "a = int(input(\"Enter the birth year:\"))\n",
        "b = int(input(\"Enter the current year:\"))\n",
        "c = b - a\n",
        "print(\"your age is:\",c)"
      ],
      "metadata": {
        "colab": {
          "base_uri": "https://localhost:8080/"
        },
        "id": "HoH93xEQhSxb",
        "outputId": "b39fd712-a706-49b6-92a9-ede0cf7248f6"
      },
      "execution_count": null,
      "outputs": [
        {
          "output_type": "stream",
          "name": "stdout",
          "text": [
            "Enter the birth year:2003\n",
            "Enter the current year:2025\n",
            "your age is: 22\n"
          ]
        }
      ]
    },
    {
      "cell_type": "code",
      "source": [
        "# Simple Interest\n",
        "p = float(input(\"Enter the principal amount:\"))\n",
        "r = float(input(\"Enter the rate of interest:\"))\n",
        "t = float(input(\"Enter the time:\"))\n",
        "I = p*r*t/100\n",
        "print(\"The simple interest is:\",I)"
      ],
      "metadata": {
        "colab": {
          "base_uri": "https://localhost:8080/"
        },
        "id": "kKJ8HfdEh03X",
        "outputId": "943104d8-e3d2-4e6c-bd74-1dbc11278c80"
      },
      "execution_count": null,
      "outputs": [
        {
          "output_type": "stream",
          "name": "stdout",
          "text": [
            "Enter the principal amount:10\n",
            "Enter the rate of interest:2.5\n",
            "Enter the time:4\n",
            "The simple interest is: 1.0\n"
          ]
        }
      ]
    },
    {
      "cell_type": "code",
      "source": [
        "# Area of Rectangle\n",
        "l = float(input(\"Enter the length:\"))\n",
        "b = float(input(\"Enter the breadth:\"))\n",
        "area = l*b\n",
        "print(\"The area of Rectangle is:\",area)"
      ],
      "metadata": {
        "colab": {
          "base_uri": "https://localhost:8080/"
        },
        "id": "YoUxwsQqjUvx",
        "outputId": "f4b31470-b913-47fe-8025-bff5071533df"
      },
      "execution_count": null,
      "outputs": [
        {
          "output_type": "stream",
          "name": "stdout",
          "text": [
            "Enter the length:9\n",
            "Enter the breadth:3\n",
            "The area of Rectangle is: 27.0\n"
          ]
        }
      ]
    },
    {
      "cell_type": "code",
      "source": [
        "# Area and circumference of the Circle\n",
        "pi = 3.14\n",
        "r = float (input(\"Enter the Radius:\"))\n",
        "a = pi*r*r\n",
        "print(\"The area of Circle is:\",a)\n",
        "c = 2*pi*r\n",
        "print(\"The circumference of Circle is:\",c)"
      ],
      "metadata": {
        "colab": {
          "base_uri": "https://localhost:8080/"
        },
        "id": "Oq8HtDhFkmm4",
        "outputId": "ac4f9179-25a0-4d89-beee-b2c15d13803a"
      },
      "execution_count": null,
      "outputs": [
        {
          "output_type": "stream",
          "name": "stdout",
          "text": [
            "Enter the Radius:5\n",
            "The area of Circle is: 78.5\n",
            "The circumference of Circle is: 31.400000000000002\n"
          ]
        }
      ]
    },
    {
      "cell_type": "code",
      "source": [
        "# Temperature Conversion:\n",
        "a = float(input(\"Enter the temperature in Celsius:\"))\n",
        "b = (a*9/5)+32\n",
        "print(\"The temperature in Fahrenheit is:\",b)"
      ],
      "metadata": {
        "colab": {
          "base_uri": "https://localhost:8080/"
        },
        "id": "DY_yHIY_pCpX",
        "outputId": "f0649aaf-e15d-40eb-af4d-ccf04a8b2ce3"
      },
      "execution_count": null,
      "outputs": [
        {
          "output_type": "stream",
          "name": "stdout",
          "text": [
            "Enter the temperature in Celsius:32\n",
            "The temperature in Fahrenheit is: 89.6\n"
          ]
        }
      ]
    },
    {
      "cell_type": "code",
      "source": [
        "# Average of Three Numbers\n",
        "a = int(input(\"Enter the first number:\"))\n",
        "b = int(input(\"Enter the second number:\"))\n",
        "c = int(input(\"Enter the third number:\"))\n",
        "avg = (a+b+c)/3\n",
        "print(\"The average of three numbers is:\",avg)"
      ],
      "metadata": {
        "colab": {
          "base_uri": "https://localhost:8080/"
        },
        "id": "aJ8ymUhAqWt_",
        "outputId": "9ccae934-552c-4d80-f54d-07414e988b62"
      },
      "execution_count": null,
      "outputs": [
        {
          "output_type": "stream",
          "name": "stdout",
          "text": [
            "Enter the first number:4\n",
            "Enter the second number:4\n",
            "Enter the third number:4\n",
            "The average of three numbers is: 4.0\n"
          ]
        }
      ]
    },
    {
      "cell_type": "code",
      "source": [],
      "metadata": {
        "id": "lrT6Nfp1rA_l"
      },
      "execution_count": null,
      "outputs": []
    }
  ]
}